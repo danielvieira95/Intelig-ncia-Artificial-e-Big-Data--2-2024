{
 "cells": [
  {
   "cell_type": "code",
   "execution_count": 1,
   "metadata": {},
   "outputs": [],
   "source": [
    "import pandas as pd\n",
    "import numpy as np\n",
    "import matplotlib.pyplot as plt\n",
    "from sklearn.cluster import KMeans \n",
    "import seaborn as sns\n",
    "from mpl_toolkits.mplot3d import Axes3D"
   ]
  },
  {
   "cell_type": "code",
   "execution_count": 2,
   "metadata": {},
   "outputs": [],
   "source": [
    "# Gerando dados para as ações\n",
    "np.random.seed(0)\n",
    "n_samples= 100\n",
    "symbols = ['AAPL','GOOGLE','MSFT','AMZN','TSLA','FB']\n",
    "prices = np.random.uniform(50,4000,n_samples)\n",
    "volume = np.random.randint(100000,500000,n_samples)\n",
    "market_cap = np.random.uniform(1e10,2e12,n_samples)"
   ]
  },
  {
   "cell_type": "code",
   "execution_count": 3,
   "metadata": {},
   "outputs": [],
   "source": [
    "data = pd.DataFrame({\n",
    "    'Símbolo':np.random.choice(symbols,n_samples),\n",
    "    'Preço':prices,\n",
    "    'Volume':volume,\n",
    "    'Capitalização de mercado':market_cap\n",
    "})"
   ]
  },
  {
   "cell_type": "code",
   "execution_count": 5,
   "metadata": {},
   "outputs": [
    {
     "data": {
      "text/html": [
       "<div>\n",
       "<style scoped>\n",
       "    .dataframe tbody tr th:only-of-type {\n",
       "        vertical-align: middle;\n",
       "    }\n",
       "\n",
       "    .dataframe tbody tr th {\n",
       "        vertical-align: top;\n",
       "    }\n",
       "\n",
       "    .dataframe thead th {\n",
       "        text-align: right;\n",
       "    }\n",
       "</style>\n",
       "<table border=\"1\" class=\"dataframe\">\n",
       "  <thead>\n",
       "    <tr style=\"text-align: right;\">\n",
       "      <th></th>\n",
       "      <th>Símbolo</th>\n",
       "      <th>Preço</th>\n",
       "      <th>Volume</th>\n",
       "      <th>Capitalização de mercado</th>\n",
       "    </tr>\n",
       "  </thead>\n",
       "  <tbody>\n",
       "    <tr>\n",
       "      <th>0</th>\n",
       "      <td>FB</td>\n",
       "      <td>2217.813341</td>\n",
       "      <td>452893</td>\n",
       "      <td>8.459500e+11</td>\n",
       "    </tr>\n",
       "    <tr>\n",
       "      <th>1</th>\n",
       "      <td>GOOGLE</td>\n",
       "      <td>2874.997997</td>\n",
       "      <td>264610</td>\n",
       "      <td>1.106703e+11</td>\n",
       "    </tr>\n",
       "    <tr>\n",
       "      <th>2</th>\n",
       "      <td>AAPL</td>\n",
       "      <td>2430.915335</td>\n",
       "      <td>108286</td>\n",
       "      <td>7.373373e+11</td>\n",
       "    </tr>\n",
       "    <tr>\n",
       "      <th>3</th>\n",
       "      <td>FB</td>\n",
       "      <td>2202.288573</td>\n",
       "      <td>471938</td>\n",
       "      <td>4.308967e+10</td>\n",
       "    </tr>\n",
       "    <tr>\n",
       "      <th>4</th>\n",
       "      <td>AAPL</td>\n",
       "      <td>1723.436457</td>\n",
       "      <td>204299</td>\n",
       "      <td>4.691772e+11</td>\n",
       "    </tr>\n",
       "  </tbody>\n",
       "</table>\n",
       "</div>"
      ],
      "text/plain": [
       "  Símbolo        Preço  Volume  Capitalização de mercado\n",
       "0      FB  2217.813341  452893              8.459500e+11\n",
       "1  GOOGLE  2874.997997  264610              1.106703e+11\n",
       "2    AAPL  2430.915335  108286              7.373373e+11\n",
       "3      FB  2202.288573  471938              4.308967e+10\n",
       "4    AAPL  1723.436457  204299              4.691772e+11"
      ]
     },
     "execution_count": 5,
     "metadata": {},
     "output_type": "execute_result"
    }
   ],
   "source": [
    "data.head()"
   ]
  },
  {
   "cell_type": "code",
   "execution_count": 6,
   "metadata": {},
   "outputs": [],
   "source": [
    "# Realizando o agrupamento com Kmeans\n",
    "data_n = pd.get_dummies(data,columns=['Símbolo'],drop_first= True)"
   ]
  },
  {
   "cell_type": "code",
   "execution_count": 7,
   "metadata": {},
   "outputs": [
    {
     "data": {
      "text/html": [
       "<div>\n",
       "<style scoped>\n",
       "    .dataframe tbody tr th:only-of-type {\n",
       "        vertical-align: middle;\n",
       "    }\n",
       "\n",
       "    .dataframe tbody tr th {\n",
       "        vertical-align: top;\n",
       "    }\n",
       "\n",
       "    .dataframe thead th {\n",
       "        text-align: right;\n",
       "    }\n",
       "</style>\n",
       "<table border=\"1\" class=\"dataframe\">\n",
       "  <thead>\n",
       "    <tr style=\"text-align: right;\">\n",
       "      <th></th>\n",
       "      <th>Preço</th>\n",
       "      <th>Volume</th>\n",
       "      <th>Capitalização de mercado</th>\n",
       "      <th>Símbolo_AMZN</th>\n",
       "      <th>Símbolo_FB</th>\n",
       "      <th>Símbolo_GOOGLE</th>\n",
       "      <th>Símbolo_MSFT</th>\n",
       "      <th>Símbolo_TSLA</th>\n",
       "    </tr>\n",
       "  </thead>\n",
       "  <tbody>\n",
       "    <tr>\n",
       "      <th>0</th>\n",
       "      <td>2217.813341</td>\n",
       "      <td>452893</td>\n",
       "      <td>8.459500e+11</td>\n",
       "      <td>False</td>\n",
       "      <td>True</td>\n",
       "      <td>False</td>\n",
       "      <td>False</td>\n",
       "      <td>False</td>\n",
       "    </tr>\n",
       "    <tr>\n",
       "      <th>1</th>\n",
       "      <td>2874.997997</td>\n",
       "      <td>264610</td>\n",
       "      <td>1.106703e+11</td>\n",
       "      <td>False</td>\n",
       "      <td>False</td>\n",
       "      <td>True</td>\n",
       "      <td>False</td>\n",
       "      <td>False</td>\n",
       "    </tr>\n",
       "    <tr>\n",
       "      <th>2</th>\n",
       "      <td>2430.915335</td>\n",
       "      <td>108286</td>\n",
       "      <td>7.373373e+11</td>\n",
       "      <td>False</td>\n",
       "      <td>False</td>\n",
       "      <td>False</td>\n",
       "      <td>False</td>\n",
       "      <td>False</td>\n",
       "    </tr>\n",
       "    <tr>\n",
       "      <th>3</th>\n",
       "      <td>2202.288573</td>\n",
       "      <td>471938</td>\n",
       "      <td>4.308967e+10</td>\n",
       "      <td>False</td>\n",
       "      <td>True</td>\n",
       "      <td>False</td>\n",
       "      <td>False</td>\n",
       "      <td>False</td>\n",
       "    </tr>\n",
       "    <tr>\n",
       "      <th>4</th>\n",
       "      <td>1723.436457</td>\n",
       "      <td>204299</td>\n",
       "      <td>4.691772e+11</td>\n",
       "      <td>False</td>\n",
       "      <td>False</td>\n",
       "      <td>False</td>\n",
       "      <td>False</td>\n",
       "      <td>False</td>\n",
       "    </tr>\n",
       "  </tbody>\n",
       "</table>\n",
       "</div>"
      ],
      "text/plain": [
       "         Preço  Volume  Capitalização de mercado  Símbolo_AMZN  Símbolo_FB  \\\n",
       "0  2217.813341  452893              8.459500e+11         False        True   \n",
       "1  2874.997997  264610              1.106703e+11         False       False   \n",
       "2  2430.915335  108286              7.373373e+11         False       False   \n",
       "3  2202.288573  471938              4.308967e+10         False        True   \n",
       "4  1723.436457  204299              4.691772e+11         False       False   \n",
       "\n",
       "   Símbolo_GOOGLE  Símbolo_MSFT  Símbolo_TSLA  \n",
       "0           False         False         False  \n",
       "1            True         False         False  \n",
       "2           False         False         False  \n",
       "3           False         False         False  \n",
       "4           False         False         False  "
      ]
     },
     "execution_count": 7,
     "metadata": {},
     "output_type": "execute_result"
    }
   ],
   "source": [
    "data_n.head()"
   ]
  }
 ],
 "metadata": {
  "kernelspec": {
   "display_name": "Python 3",
   "language": "python",
   "name": "python3"
  },
  "language_info": {
   "codemirror_mode": {
    "name": "ipython",
    "version": 3
   },
   "file_extension": ".py",
   "mimetype": "text/x-python",
   "name": "python",
   "nbconvert_exporter": "python",
   "pygments_lexer": "ipython3",
   "version": "3.11.4"
  }
 },
 "nbformat": 4,
 "nbformat_minor": 2
}
