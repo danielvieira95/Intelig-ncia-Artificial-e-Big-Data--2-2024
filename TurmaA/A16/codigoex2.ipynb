{
 "cells": [
  {
   "cell_type": "code",
   "execution_count": 1,
   "metadata": {},
   "outputs": [],
   "source": [
    "import pandas as pd\n",
    "import numpy as np\n",
    "import matplotlib.pyplot as plt\n",
    "from sklearn.cluster import KMeans \n",
    "import seaborn as sns\n",
    "from mpl_toolkits.mplot3d import Axes3D"
   ]
  },
  {
   "cell_type": "code",
   "execution_count": 2,
   "metadata": {},
   "outputs": [],
   "source": [
    "# Gerando dados para as ações\n",
    "np.random.seed(0)\n",
    "n_samples= 100\n",
    "symbols = ['AAPL','GOOGLE','MSFT','AMZN','TSLA','FB']\n",
    "prices = np.random.uniform(50,4000,n_samples)\n",
    "volume = np.random.randint(100000,500000,n_samples)\n",
    "market_cap = np.random.uniform(1e10,2e12,n_samples)"
   ]
  }
 ],
 "metadata": {
  "kernelspec": {
   "display_name": "Python 3",
   "language": "python",
   "name": "python3"
  },
  "language_info": {
   "codemirror_mode": {
    "name": "ipython",
    "version": 3
   },
   "file_extension": ".py",
   "mimetype": "text/x-python",
   "name": "python",
   "nbconvert_exporter": "python",
   "pygments_lexer": "ipython3",
   "version": "3.11.4"
  }
 },
 "nbformat": 4,
 "nbformat_minor": 2
}
