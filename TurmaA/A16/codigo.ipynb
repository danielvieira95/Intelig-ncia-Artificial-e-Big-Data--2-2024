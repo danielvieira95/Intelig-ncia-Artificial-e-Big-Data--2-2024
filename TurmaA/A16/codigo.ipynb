{
 "cells": [
  {
   "cell_type": "code",
   "execution_count": 1,
   "metadata": {},
   "outputs": [],
   "source": [
    "#import bibliotecas\n",
    "import pandas as pd\n",
    "from sklearn.cluster import KMeans\n",
    "import matplotlib.pyplot as plt\n",
    "from mpl_toolkits.mplot3d import Axes3D\n",
    "import seaborn as sns"
   ]
  },
  {
   "cell_type": "code",
   "execution_count": 2,
   "metadata": {},
   "outputs": [],
   "source": [
    "# Criar um DataFrame com os dados fictícios\n",
    "data = {\n",
    "    'Símbolo': ['AAPL', 'GOOGL', 'MSFT', 'AMZN', 'TSLA', 'FB'],\n",
    "    'Preço da Ação': [150.12, 2700.45, 300.89, 3200.10, 700.78, 350.40],\n",
    "    'Volume de Negociação': [3000000, 1000000, 2500000, 1200000, 5000000, 900000],\n",
    "    'Capitalização de Mercado': [2000000000000, 1800000000000, 2200000000000, 1700000000000, 750000000000, 900000000000]\n",
    "}\n",
    "\n",
    "df = pd.DataFrame(data)"
   ]
  }
 ],
 "metadata": {
  "kernelspec": {
   "display_name": "Python 3",
   "language": "python",
   "name": "python3"
  },
  "language_info": {
   "codemirror_mode": {
    "name": "ipython",
    "version": 3
   },
   "file_extension": ".py",
   "mimetype": "text/x-python",
   "name": "python",
   "nbconvert_exporter": "python",
   "pygments_lexer": "ipython3",
   "version": "3.11.4"
  }
 },
 "nbformat": 4,
 "nbformat_minor": 2
}
