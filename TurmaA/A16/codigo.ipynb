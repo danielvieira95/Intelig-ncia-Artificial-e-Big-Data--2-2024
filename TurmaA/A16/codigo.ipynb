{
 "cells": [
  {
   "cell_type": "code",
   "execution_count": 1,
   "metadata": {},
   "outputs": [],
   "source": [
    "#import bibliotecas\n",
    "import pandas as pd\n",
    "from sklearn.cluster import KMeans\n",
    "import matplotlib.pyplot as plt\n",
    "from mpl_toolkits.mplot3d import Axes3D\n",
    "import seaborn as sns"
   ]
  },
  {
   "cell_type": "code",
   "execution_count": 2,
   "metadata": {},
   "outputs": [],
   "source": [
    "# Criar um DataFrame com os dados fictícios\n",
    "data = {\n",
    "    'Símbolo': ['AAPL', 'GOOGL', 'MSFT', 'AMZN', 'TSLA', 'FB'],\n",
    "    'Preço da Ação': [150.12, 2700.45, 300.89, 3200.10, 700.78, 350.40],\n",
    "    'Volume de Negociação': [3000000, 1000000, 2500000, 1200000, 5000000, 900000],\n",
    "    'Capitalização de Mercado': [2000000000000, 1800000000000, 2200000000000, 1700000000000, 750000000000, 900000000000]\n",
    "}\n",
    "\n",
    "df = pd.DataFrame(data)"
   ]
  },
  {
   "cell_type": "code",
   "execution_count": 3,
   "metadata": {},
   "outputs": [
    {
     "data": {
      "text/html": [
       "<div>\n",
       "<style scoped>\n",
       "    .dataframe tbody tr th:only-of-type {\n",
       "        vertical-align: middle;\n",
       "    }\n",
       "\n",
       "    .dataframe tbody tr th {\n",
       "        vertical-align: top;\n",
       "    }\n",
       "\n",
       "    .dataframe thead th {\n",
       "        text-align: right;\n",
       "    }\n",
       "</style>\n",
       "<table border=\"1\" class=\"dataframe\">\n",
       "  <thead>\n",
       "    <tr style=\"text-align: right;\">\n",
       "      <th></th>\n",
       "      <th>Símbolo</th>\n",
       "      <th>Preço da Ação</th>\n",
       "      <th>Volume de Negociação</th>\n",
       "      <th>Capitalização de Mercado</th>\n",
       "    </tr>\n",
       "  </thead>\n",
       "  <tbody>\n",
       "    <tr>\n",
       "      <th>0</th>\n",
       "      <td>AAPL</td>\n",
       "      <td>150.12</td>\n",
       "      <td>3000000</td>\n",
       "      <td>2000000000000</td>\n",
       "    </tr>\n",
       "    <tr>\n",
       "      <th>1</th>\n",
       "      <td>GOOGL</td>\n",
       "      <td>2700.45</td>\n",
       "      <td>1000000</td>\n",
       "      <td>1800000000000</td>\n",
       "    </tr>\n",
       "    <tr>\n",
       "      <th>2</th>\n",
       "      <td>MSFT</td>\n",
       "      <td>300.89</td>\n",
       "      <td>2500000</td>\n",
       "      <td>2200000000000</td>\n",
       "    </tr>\n",
       "    <tr>\n",
       "      <th>3</th>\n",
       "      <td>AMZN</td>\n",
       "      <td>3200.10</td>\n",
       "      <td>1200000</td>\n",
       "      <td>1700000000000</td>\n",
       "    </tr>\n",
       "    <tr>\n",
       "      <th>4</th>\n",
       "      <td>TSLA</td>\n",
       "      <td>700.78</td>\n",
       "      <td>5000000</td>\n",
       "      <td>750000000000</td>\n",
       "    </tr>\n",
       "  </tbody>\n",
       "</table>\n",
       "</div>"
      ],
      "text/plain": [
       "  Símbolo  Preço da Ação  Volume de Negociação  Capitalização de Mercado\n",
       "0    AAPL         150.12               3000000             2000000000000\n",
       "1   GOOGL        2700.45               1000000             1800000000000\n",
       "2    MSFT         300.89               2500000             2200000000000\n",
       "3    AMZN        3200.10               1200000             1700000000000\n",
       "4    TSLA         700.78               5000000              750000000000"
      ]
     },
     "execution_count": 3,
     "metadata": {},
     "output_type": "execute_result"
    }
   ],
   "source": [
    "df.head()"
   ]
  }
 ],
 "metadata": {
  "kernelspec": {
   "display_name": "Python 3",
   "language": "python",
   "name": "python3"
  },
  "language_info": {
   "codemirror_mode": {
    "name": "ipython",
    "version": 3
   },
   "file_extension": ".py",
   "mimetype": "text/x-python",
   "name": "python",
   "nbconvert_exporter": "python",
   "pygments_lexer": "ipython3",
   "version": "3.11.4"
  }
 },
 "nbformat": 4,
 "nbformat_minor": 2
}
